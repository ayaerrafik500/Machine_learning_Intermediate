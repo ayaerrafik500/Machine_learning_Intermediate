{
 "cells": [
  {
   "cell_type": "markdown",
   "id": "08f13d8f",
   "metadata": {
    "papermill": {
     "duration": 0.007387,
     "end_time": "2023-06-30T09:38:10.572773",
     "exception": false,
     "start_time": "2023-06-30T09:38:10.565386",
     "status": "completed"
    },
    "tags": []
   },
   "source": [
    "**This notebook is an exercise in the [Intermediate Machine Learning](https://www.kaggle.com/learn/intermediate-machine-learning) course.  You can reference the tutorial at [this link](https://www.kaggle.com/alexisbcook/xgboost).**\n",
    "\n",
    "---\n"
   ]
  },
  {
   "cell_type": "markdown",
   "id": "ddfe2090",
   "metadata": {
    "papermill": {
     "duration": 0.006428,
     "end_time": "2023-06-30T09:38:10.586244",
     "exception": false,
     "start_time": "2023-06-30T09:38:10.579816",
     "status": "completed"
    },
    "tags": []
   },
   "source": [
    "In this exercise, you will use your new knowledge to train a model with **gradient boosting**.\n",
    "\n",
    "# Setup\n",
    "\n",
    "The questions below will give you feedback on your work. Run the following cell to set up the feedback system."
   ]
  },
  {
   "cell_type": "code",
   "execution_count": 1,
   "id": "8a770fc5",
   "metadata": {
    "execution": {
     "iopub.execute_input": "2023-06-30T09:38:10.601499Z",
     "iopub.status.busy": "2023-06-30T09:38:10.601101Z",
     "iopub.status.idle": "2023-06-30T09:38:13.722770Z",
     "shell.execute_reply": "2023-06-30T09:38:13.721858Z"
    },
    "papermill": {
     "duration": 3.133334,
     "end_time": "2023-06-30T09:38:13.726253",
     "exception": false,
     "start_time": "2023-06-30T09:38:10.592919",
     "status": "completed"
    },
    "tags": []
   },
   "outputs": [
    {
     "name": "stdout",
     "output_type": "stream",
     "text": [
      "Setup Complete\n"
     ]
    }
   ],
   "source": [
    "# Set up code checking\n",
    "import os\n",
    "if not os.path.exists(\"../input/train.csv\"):\n",
    "    os.symlink(\"../input/home-data-for-ml-course/train.csv\", \"../input/train.csv\")  \n",
    "    os.symlink(\"../input/home-data-for-ml-course/test.csv\", \"../input/test.csv\") \n",
    "from learntools.core import binder\n",
    "binder.bind(globals())\n",
    "from learntools.ml_intermediate.ex6 import *\n",
    "print(\"Setup Complete\")"
   ]
  },
  {
   "cell_type": "markdown",
   "id": "490bf512",
   "metadata": {
    "papermill": {
     "duration": 0.006736,
     "end_time": "2023-06-30T09:38:13.740511",
     "exception": false,
     "start_time": "2023-06-30T09:38:13.733775",
     "status": "completed"
    },
    "tags": []
   },
   "source": [
    "You will work with the [Housing Prices Competition for Kaggle Learn Users](https://www.kaggle.com/c/home-data-for-ml-course) dataset from the previous exercise. \n",
    "\n",
    "![Ames Housing dataset image](https://storage.googleapis.com/kaggle-media/learn/images/lTJVG4e.png)\n",
    "\n",
    "Run the next code cell without changes to load the training and validation sets in `X_train`, `X_valid`, `y_train`, and `y_valid`.  The test set is loaded in `X_test`."
   ]
  },
  {
   "cell_type": "code",
   "execution_count": 2,
   "id": "7e3921c1",
   "metadata": {
    "execution": {
     "iopub.execute_input": "2023-06-30T09:38:13.756478Z",
     "iopub.status.busy": "2023-06-30T09:38:13.756065Z",
     "iopub.status.idle": "2023-06-30T09:38:13.963971Z",
     "shell.execute_reply": "2023-06-30T09:38:13.962654Z"
    },
    "papermill": {
     "duration": 0.219737,
     "end_time": "2023-06-30T09:38:13.967193",
     "exception": false,
     "start_time": "2023-06-30T09:38:13.747456",
     "status": "completed"
    },
    "tags": []
   },
   "outputs": [],
   "source": [
    "import pandas as pd\n",
    "from sklearn.model_selection import train_test_split\n",
    "\n",
    "# Read the data\n",
    "X = pd.read_csv('../input/train.csv', index_col='Id')\n",
    "X_test_full = pd.read_csv('../input/test.csv', index_col='Id')\n",
    "\n",
    "# Remove rows with missing target, separate target from predictors\n",
    "X.dropna(axis=0, subset=['SalePrice'], inplace=True)\n",
    "y = X.SalePrice              \n",
    "X.drop(['SalePrice'], axis=1, inplace=True)\n",
    "\n",
    "# Break off validation set from training data\n",
    "X_train_full, X_valid_full, y_train, y_valid = train_test_split(X, y, train_size=0.8, test_size=0.2,\n",
    "                                                                random_state=0)\n",
    "\n",
    "# \"Cardinality\" means the number of unique values in a column\n",
    "# Select categorical columns with relatively low cardinality (convenient but arbitrary)\n",
    "low_cardinality_cols = [cname for cname in X_train_full.columns if X_train_full[cname].nunique() < 10 and \n",
    "                        X_train_full[cname].dtype == \"object\"]\n",
    "\n",
    "# Select numeric columns\n",
    "numeric_cols = [cname for cname in X_train_full.columns if X_train_full[cname].dtype in ['int64', 'float64']]\n",
    "\n",
    "# Keep selected columns only\n",
    "my_cols = low_cardinality_cols + numeric_cols\n",
    "X_train = X_train_full[my_cols].copy()\n",
    "X_valid = X_valid_full[my_cols].copy()\n",
    "X_test = X_test_full[my_cols].copy()\n",
    "\n",
    "# One-hot encode the data (to shorten the code, we use pandas)\n",
    "X_train = pd.get_dummies(X_train)\n",
    "X_valid = pd.get_dummies(X_valid)\n",
    "X_test = pd.get_dummies(X_test)\n",
    "X_train, X_valid = X_train.align(X_valid, join='left', axis=1)\n",
    "X_train, X_test = X_train.align(X_test, join='left', axis=1)"
   ]
  },
  {
   "cell_type": "markdown",
   "id": "f3cbeeac",
   "metadata": {
    "papermill": {
     "duration": 0.009026,
     "end_time": "2023-06-30T09:38:13.983482",
     "exception": false,
     "start_time": "2023-06-30T09:38:13.974456",
     "status": "completed"
    },
    "tags": []
   },
   "source": [
    "# Step 1: Build model\n",
    "\n",
    "### Part A\n",
    "\n",
    "In this step, you'll build and train your first model with gradient boosting.\n",
    "\n",
    "- Begin by setting `my_model_1` to an XGBoost model.  Use the [XGBRegressor](https://xgboost.readthedocs.io/en/latest/python/python_api.html#xgboost.XGBRegressor) class, and set the random seed to 0 (`random_state=0`).  **Leave all other parameters as default.**\n",
    "- Then, fit the model to the training data in `X_train` and `y_train`."
   ]
  },
  {
   "cell_type": "code",
   "execution_count": 3,
   "id": "a4dec3ff",
   "metadata": {
    "execution": {
     "iopub.execute_input": "2023-06-30T09:38:14.000617Z",
     "iopub.status.busy": "2023-06-30T09:38:14.000240Z",
     "iopub.status.idle": "2023-06-30T09:38:14.970331Z",
     "shell.execute_reply": "2023-06-30T09:38:14.969147Z"
    },
    "papermill": {
     "duration": 0.982377,
     "end_time": "2023-06-30T09:38:14.972839",
     "exception": false,
     "start_time": "2023-06-30T09:38:13.990462",
     "status": "completed"
    },
    "tags": []
   },
   "outputs": [
    {
     "data": {
      "application/javascript": [
       "parent.postMessage({\"jupyterEvent\": \"custom.exercise_interaction\", \"data\": {\"outcomeType\": 1, \"valueTowardsCompletion\": 0.5, \"interactionType\": 1, \"questionType\": 2, \"questionId\": \"1.1_Model1A\", \"learnToolsVersion\": \"0.3.4\", \"failureMessage\": \"\", \"exceptionClass\": \"\", \"trace\": \"\"}}, \"*\")"
      ],
      "text/plain": [
       "<IPython.core.display.Javascript object>"
      ]
     },
     "metadata": {},
     "output_type": "display_data"
    },
    {
     "data": {
      "text/markdown": [
       "<span style=\"color:#33cc33\">Correct</span>"
      ],
      "text/plain": [
       "Correct"
      ]
     },
     "metadata": {},
     "output_type": "display_data"
    }
   ],
   "source": [
    "from xgboost import XGBRegressor\n",
    "\n",
    "# Define the model\n",
    "my_model_1 = XGBRegressor(random_state=0) # Your code here\n",
    "\n",
    "# Fit the model\n",
    "my_model_1.fit(X_train,y_train) # Your code here\n",
    "\n",
    "# Check your answer\n",
    "step_1.a.check()"
   ]
  },
  {
   "cell_type": "code",
   "execution_count": 4,
   "id": "6f9462b1",
   "metadata": {
    "execution": {
     "iopub.execute_input": "2023-06-30T09:38:14.988710Z",
     "iopub.status.busy": "2023-06-30T09:38:14.988314Z",
     "iopub.status.idle": "2023-06-30T09:38:14.993085Z",
     "shell.execute_reply": "2023-06-30T09:38:14.992054Z"
    },
    "papermill": {
     "duration": 0.015629,
     "end_time": "2023-06-30T09:38:14.995661",
     "exception": false,
     "start_time": "2023-06-30T09:38:14.980032",
     "status": "completed"
    },
    "tags": []
   },
   "outputs": [],
   "source": [
    "# Lines below will give you a hint or solution code\n",
    "#step_1.a.hint()\n",
    "#step_1.a.solution()"
   ]
  },
  {
   "cell_type": "markdown",
   "id": "6f3e095c",
   "metadata": {
    "papermill": {
     "duration": 0.008952,
     "end_time": "2023-06-30T09:38:15.012500",
     "exception": false,
     "start_time": "2023-06-30T09:38:15.003548",
     "status": "completed"
    },
    "tags": []
   },
   "source": [
    "### Part B\n",
    "\n",
    "Set `predictions_1` to the model's predictions for the validation data.  Recall that the validation features are stored in `X_valid`."
   ]
  },
  {
   "cell_type": "code",
   "execution_count": 5,
   "id": "cf70e00a",
   "metadata": {
    "execution": {
     "iopub.execute_input": "2023-06-30T09:38:15.031312Z",
     "iopub.status.busy": "2023-06-30T09:38:15.030902Z",
     "iopub.status.idle": "2023-06-30T09:38:15.057863Z",
     "shell.execute_reply": "2023-06-30T09:38:15.057067Z"
    },
    "papermill": {
     "duration": 0.041596,
     "end_time": "2023-06-30T09:38:15.063782",
     "exception": false,
     "start_time": "2023-06-30T09:38:15.022186",
     "status": "completed"
    },
    "tags": []
   },
   "outputs": [
    {
     "data": {
      "application/javascript": [
       "parent.postMessage({\"jupyterEvent\": \"custom.exercise_interaction\", \"data\": {\"outcomeType\": 1, \"valueTowardsCompletion\": 0.5, \"interactionType\": 1, \"questionType\": 2, \"questionId\": \"1.2_Model1B\", \"learnToolsVersion\": \"0.3.4\", \"failureMessage\": \"\", \"exceptionClass\": \"\", \"trace\": \"\"}}, \"*\")"
      ],
      "text/plain": [
       "<IPython.core.display.Javascript object>"
      ]
     },
     "metadata": {},
     "output_type": "display_data"
    },
    {
     "data": {
      "text/markdown": [
       "<span style=\"color:#33cc33\">Correct</span>"
      ],
      "text/plain": [
       "Correct"
      ]
     },
     "metadata": {},
     "output_type": "display_data"
    }
   ],
   "source": [
    "from sklearn.metrics import mean_absolute_error\n",
    "\n",
    "# Get predictions\n",
    "predictions_1 = my_model_1.predict(X_valid) # Your code here\n",
    "\n",
    "# Check your answer\n",
    "step_1.b.check()"
   ]
  },
  {
   "cell_type": "code",
   "execution_count": 6,
   "id": "44599a9f",
   "metadata": {
    "execution": {
     "iopub.execute_input": "2023-06-30T09:38:15.081457Z",
     "iopub.status.busy": "2023-06-30T09:38:15.081064Z",
     "iopub.status.idle": "2023-06-30T09:38:15.086608Z",
     "shell.execute_reply": "2023-06-30T09:38:15.085275Z"
    },
    "papermill": {
     "duration": 0.017448,
     "end_time": "2023-06-30T09:38:15.089096",
     "exception": false,
     "start_time": "2023-06-30T09:38:15.071648",
     "status": "completed"
    },
    "tags": []
   },
   "outputs": [],
   "source": [
    "# Lines below will give you a hint or solution code\n",
    "#step_1.b.hint()\n",
    "#step_1.b.solution()"
   ]
  },
  {
   "cell_type": "markdown",
   "id": "90e34849",
   "metadata": {
    "papermill": {
     "duration": 0.007239,
     "end_time": "2023-06-30T09:38:15.103703",
     "exception": false,
     "start_time": "2023-06-30T09:38:15.096464",
     "status": "completed"
    },
    "tags": []
   },
   "source": [
    "### Part C\n",
    "\n",
    "Finally, use the `mean_absolute_error()` function to calculate the mean absolute error (MAE) corresponding to the predictions for the validation set.  Recall that the labels for the validation data are stored in `y_valid`."
   ]
  },
  {
   "cell_type": "code",
   "execution_count": 7,
   "id": "6f2570d0",
   "metadata": {
    "execution": {
     "iopub.execute_input": "2023-06-30T09:38:15.120591Z",
     "iopub.status.busy": "2023-06-30T09:38:15.120211Z",
     "iopub.status.idle": "2023-06-30T09:38:15.132948Z",
     "shell.execute_reply": "2023-06-30T09:38:15.131542Z"
    },
    "papermill": {
     "duration": 0.024229,
     "end_time": "2023-06-30T09:38:15.135591",
     "exception": false,
     "start_time": "2023-06-30T09:38:15.111362",
     "status": "completed"
    },
    "tags": []
   },
   "outputs": [
    {
     "name": "stdout",
     "output_type": "stream",
     "text": [
      "Mean Absolute Error: 17662.736729452055\n"
     ]
    },
    {
     "data": {
      "application/javascript": [
       "parent.postMessage({\"jupyterEvent\": \"custom.exercise_interaction\", \"data\": {\"outcomeType\": 1, \"valueTowardsCompletion\": 0.5, \"interactionType\": 1, \"questionType\": 2, \"questionId\": \"1.3_Model1C\", \"learnToolsVersion\": \"0.3.4\", \"failureMessage\": \"\", \"exceptionClass\": \"\", \"trace\": \"\"}}, \"*\")"
      ],
      "text/plain": [
       "<IPython.core.display.Javascript object>"
      ]
     },
     "metadata": {},
     "output_type": "display_data"
    },
    {
     "data": {
      "text/markdown": [
       "<span style=\"color:#33cc33\">Correct</span>"
      ],
      "text/plain": [
       "Correct"
      ]
     },
     "metadata": {},
     "output_type": "display_data"
    }
   ],
   "source": [
    "# Calculate MAE\n",
    "mae_1 = mean_absolute_error(y_valid,predictions_1) # Your code here\n",
    "\n",
    "# Uncomment to print MAE\n",
    "print(\"Mean Absolute Error:\" , mae_1)\n",
    "\n",
    "# Check your answer\n",
    "step_1.c.check()"
   ]
  },
  {
   "cell_type": "code",
   "execution_count": 8,
   "id": "59d55dd2",
   "metadata": {
    "execution": {
     "iopub.execute_input": "2023-06-30T09:38:15.154632Z",
     "iopub.status.busy": "2023-06-30T09:38:15.154249Z",
     "iopub.status.idle": "2023-06-30T09:38:15.159685Z",
     "shell.execute_reply": "2023-06-30T09:38:15.158534Z"
    },
    "papermill": {
     "duration": 0.017654,
     "end_time": "2023-06-30T09:38:15.162241",
     "exception": false,
     "start_time": "2023-06-30T09:38:15.144587",
     "status": "completed"
    },
    "tags": []
   },
   "outputs": [],
   "source": [
    "# Lines below will give you a hint or solution code\n",
    "#step_1.c.hint()\n",
    "#step_1.c.solution()"
   ]
  },
  {
   "cell_type": "markdown",
   "id": "f0ad466a",
   "metadata": {
    "papermill": {
     "duration": 0.007938,
     "end_time": "2023-06-30T09:38:15.178727",
     "exception": false,
     "start_time": "2023-06-30T09:38:15.170789",
     "status": "completed"
    },
    "tags": []
   },
   "source": [
    "# Step 2: Improve the model\n",
    "\n",
    "Now that you've trained a default model as baseline, it's time to tinker with the parameters, to see if you can get better performance!\n",
    "- Begin by setting `my_model_2` to an XGBoost model, using the [XGBRegressor](https://xgboost.readthedocs.io/en/latest/python/python_api.html#xgboost.XGBRegressor) class.  Use what you learned in the previous tutorial to figure out how to change the default parameters (like `n_estimators` and `learning_rate`) to get better results.\n",
    "- Then, fit the model to the training data in `X_train` and `y_train`.\n",
    "- Set `predictions_2` to the model's predictions for the validation data.  Recall that the validation features are stored in `X_valid`.\n",
    "- Finally, use the `mean_absolute_error()` function to calculate the mean absolute error (MAE) corresponding to the predictions on the validation set.  Recall that the labels for the validation data are stored in `y_valid`.\n",
    "\n",
    "In order for this step to be marked correct, your model in `my_model_2` must attain lower MAE than the model in `my_model_1`. "
   ]
  },
  {
   "cell_type": "code",
   "execution_count": 9,
   "id": "ac12ff3c",
   "metadata": {
    "execution": {
     "iopub.execute_input": "2023-06-30T09:38:15.197641Z",
     "iopub.status.busy": "2023-06-30T09:38:15.197259Z",
     "iopub.status.idle": "2023-06-30T09:38:19.877827Z",
     "shell.execute_reply": "2023-06-30T09:38:19.876691Z"
    },
    "papermill": {
     "duration": 4.693344,
     "end_time": "2023-06-30T09:38:19.880305",
     "exception": false,
     "start_time": "2023-06-30T09:38:15.186961",
     "status": "completed"
    },
    "tags": []
   },
   "outputs": [
    {
     "data": {
      "application/javascript": [
       "parent.postMessage({\"jupyterEvent\": \"custom.exercise_interaction\", \"data\": {\"outcomeType\": 1, \"valueTowardsCompletion\": 0.5, \"interactionType\": 1, \"questionType\": 2, \"questionId\": \"2_Model2\", \"learnToolsVersion\": \"0.3.4\", \"failureMessage\": \"\", \"exceptionClass\": \"\", \"trace\": \"\"}}, \"*\")"
      ],
      "text/plain": [
       "<IPython.core.display.Javascript object>"
      ]
     },
     "metadata": {},
     "output_type": "display_data"
    },
    {
     "data": {
      "text/markdown": [
       "<span style=\"color:#33cc33\">Correct</span>"
      ],
      "text/plain": [
       "Correct"
      ]
     },
     "metadata": {},
     "output_type": "display_data"
    }
   ],
   "source": [
    "# Define the model\n",
    "my_model_2 = XGBRegressor(n_estimators=500,learning_rate=0.05) # Your code here\n",
    "\n",
    "# Fit the model\n",
    "my_model_2.fit(X_train,y_train) # Your code here\n",
    "\n",
    "# Get predictions\n",
    "predictions_2 = my_model_2.predict(X_valid) # Your code here\n",
    "\n",
    "# Calculate MAE\n",
    "mae_2 = mean_absolute_error(y_valid,predictions_2) # Your code here\n",
    "\n",
    "# Uncomment to print MAE\n",
    "# print(\"Mean Absolute Error:\" , mae_2)\n",
    "\n",
    "# Check your answer\n",
    "step_2.check()"
   ]
  },
  {
   "cell_type": "code",
   "execution_count": 10,
   "id": "17ebe421",
   "metadata": {
    "execution": {
     "iopub.execute_input": "2023-06-30T09:38:19.899527Z",
     "iopub.status.busy": "2023-06-30T09:38:19.899138Z",
     "iopub.status.idle": "2023-06-30T09:38:19.903936Z",
     "shell.execute_reply": "2023-06-30T09:38:19.902902Z"
    },
    "papermill": {
     "duration": 0.016799,
     "end_time": "2023-06-30T09:38:19.906253",
     "exception": false,
     "start_time": "2023-06-30T09:38:19.889454",
     "status": "completed"
    },
    "tags": []
   },
   "outputs": [],
   "source": [
    "# Lines below will give you a hint or solution code\n",
    "#step_2.hint()\n",
    "#step_2.solution()"
   ]
  },
  {
   "cell_type": "markdown",
   "id": "d07c4bf3",
   "metadata": {
    "papermill": {
     "duration": 0.007964,
     "end_time": "2023-06-30T09:38:19.922454",
     "exception": false,
     "start_time": "2023-06-30T09:38:19.914490",
     "status": "completed"
    },
    "tags": []
   },
   "source": [
    "# Step 3: Break the model\n",
    "\n",
    "In this step, you will create a model that performs worse than the original model in Step 1.  This will help you to develop your intuition for how to set parameters.  You might even find that you accidentally get better performance, which is ultimately a nice problem to have and a valuable learning experience!\n",
    "- Begin by setting `my_model_3` to an XGBoost model, using the [XGBRegressor](https://xgboost.readthedocs.io/en/latest/python/python_api.html#xgboost.XGBRegressor) class.  Use what you learned in the previous tutorial to figure out how to change the default parameters (like `n_estimators` and `learning_rate`) to design a model to get high MAE.\n",
    "- Then, fit the model to the training data in `X_train` and `y_train`.\n",
    "- Set `predictions_3` to the model's predictions for the validation data.  Recall that the validation features are stored in `X_valid`.\n",
    "- Finally, use the `mean_absolute_error()` function to calculate the mean absolute error (MAE) corresponding to the predictions on the validation set.  Recall that the labels for the validation data are stored in `y_valid`.\n",
    "\n",
    "In order for this step to be marked correct, your model in `my_model_3` must attain higher MAE than the model in `my_model_1`. "
   ]
  },
  {
   "cell_type": "code",
   "execution_count": 11,
   "id": "3eb815cd",
   "metadata": {
    "execution": {
     "iopub.execute_input": "2023-06-30T09:38:19.941337Z",
     "iopub.status.busy": "2023-06-30T09:38:19.940565Z",
     "iopub.status.idle": "2023-06-30T09:38:24.616958Z",
     "shell.execute_reply": "2023-06-30T09:38:24.615878Z"
    },
    "papermill": {
     "duration": 4.689336,
     "end_time": "2023-06-30T09:38:24.620007",
     "exception": false,
     "start_time": "2023-06-30T09:38:19.930671",
     "status": "completed"
    },
    "tags": []
   },
   "outputs": [
    {
     "name": "stdout",
     "output_type": "stream",
     "text": [
      "Mean Absolute Error: 20928.521297089042\n"
     ]
    },
    {
     "data": {
      "application/javascript": [
       "parent.postMessage({\"jupyterEvent\": \"custom.exercise_interaction\", \"data\": {\"outcomeType\": 1, \"valueTowardsCompletion\": 0.5, \"interactionType\": 1, \"questionType\": 2, \"questionId\": \"3_Model3\", \"learnToolsVersion\": \"0.3.4\", \"failureMessage\": \"\", \"exceptionClass\": \"\", \"trace\": \"\"}}, \"*\")"
      ],
      "text/plain": [
       "<IPython.core.display.Javascript object>"
      ]
     },
     "metadata": {},
     "output_type": "display_data"
    },
    {
     "data": {
      "text/markdown": [
       "<span style=\"color:#33cc33\">Correct</span>"
      ],
      "text/plain": [
       "Correct"
      ]
     },
     "metadata": {},
     "output_type": "display_data"
    }
   ],
   "source": [
    "# Define the model\n",
    "my_model_3 = XGBRegressor(n_estimators=500,learning_rate=0.5)\n",
    "\n",
    "# Fit the model\n",
    "my_model_3.fit(X_train,y_train) # Your code here\n",
    "\n",
    "# Get predictions\n",
    "predictions_3 = my_model_3.predict(X_valid)\n",
    "\n",
    "# Calculate MAE\n",
    "mae_3 = mean_absolute_error(y_valid,predictions_3)\n",
    "\n",
    "# Uncomment to print MAE\n",
    "print(\"Mean Absolute Error:\" , mae_3)\n",
    "\n",
    "# Check your answer\n",
    "step_3.check()"
   ]
  },
  {
   "cell_type": "code",
   "execution_count": 12,
   "id": "a6ed46e9",
   "metadata": {
    "execution": {
     "iopub.execute_input": "2023-06-30T09:38:24.642324Z",
     "iopub.status.busy": "2023-06-30T09:38:24.641835Z",
     "iopub.status.idle": "2023-06-30T09:38:24.647362Z",
     "shell.execute_reply": "2023-06-30T09:38:24.645956Z"
    },
    "papermill": {
     "duration": 0.020265,
     "end_time": "2023-06-30T09:38:24.650159",
     "exception": false,
     "start_time": "2023-06-30T09:38:24.629894",
     "status": "completed"
    },
    "tags": []
   },
   "outputs": [],
   "source": [
    "# Lines below will give you a hint or solution code\n",
    "#step_3.hint()\n",
    "#step_3.solution()"
   ]
  },
  {
   "cell_type": "markdown",
   "id": "ddacc65d",
   "metadata": {
    "papermill": {
     "duration": 0.008929,
     "end_time": "2023-06-30T09:38:24.668421",
     "exception": false,
     "start_time": "2023-06-30T09:38:24.659492",
     "status": "completed"
    },
    "tags": []
   },
   "source": [
    "# Keep going\n",
    "\n",
    "Continue to learn about **[data leakage](https://www.kaggle.com/alexisbcook/data-leakage)**.  This is an important issue for a data scientist to understand, and it has the potential to ruin your models in subtle and dangerous ways!"
   ]
  },
  {
   "cell_type": "markdown",
   "id": "5a837072",
   "metadata": {
    "papermill": {
     "duration": 0.00872,
     "end_time": "2023-06-30T09:38:24.686315",
     "exception": false,
     "start_time": "2023-06-30T09:38:24.677595",
     "status": "completed"
    },
    "tags": []
   },
   "source": [
    "---\n",
    "\n",
    "\n",
    "\n",
    "\n",
    "*Have questions or comments? Visit the [course discussion forum](https://www.kaggle.com/learn/intermediate-machine-learning/discussion) to chat with other learners.*"
   ]
  }
 ],
 "metadata": {
  "kernelspec": {
   "display_name": "Python 3",
   "language": "python",
   "name": "python3"
  },
  "language_info": {
   "codemirror_mode": {
    "name": "ipython",
    "version": 3
   },
   "file_extension": ".py",
   "mimetype": "text/x-python",
   "name": "python",
   "nbconvert_exporter": "python",
   "pygments_lexer": "ipython3",
   "version": "3.10.10"
  },
  "papermill": {
   "default_parameters": {},
   "duration": 29.009741,
   "end_time": "2023-06-30T09:38:25.823403",
   "environment_variables": {},
   "exception": null,
   "input_path": "__notebook__.ipynb",
   "output_path": "__notebook__.ipynb",
   "parameters": {},
   "start_time": "2023-06-30T09:37:56.813662",
   "version": "2.4.0"
  }
 },
 "nbformat": 4,
 "nbformat_minor": 5
}
